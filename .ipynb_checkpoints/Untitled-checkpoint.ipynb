{
 "cells": [
  {
   "cell_type": "code",
   "execution_count": 4,
   "metadata": {},
   "outputs": [
    {
     "name": "stdout",
     "output_type": "stream",
     "text": [
      "{\"data\":[{\"id\":397,\"wikiDataId\":\"Q1863\",\"type\":\"CITY\",\"city\":\"Andorra la Vella\",\"name\":\"Andorra la Vella\",\"country\":\"Andorra\",\"countryCode\":\"AD\",\"region\":\"Andorra la Vella\",\"regionCode\":\"07\",\"latitude\":42.5,\"longitude\":1.5},{\"id\":866,\"wikiDataId\":\"Q24554\",\"type\":\"CITY\",\"city\":\"Arinsal\",\"name\":\"Arinsal\",\"country\":\"Andorra\",\"countryCode\":\"AD\",\"region\":\"La Massana\",\"regionCode\":\"04\",\"latitude\":42.56666667,\"longitude\":1.48333333},{\"id\":408,\"wikiDataId\":\"Q24456\",\"type\":\"CITY\",\"city\":\"El Pas de la Casa\",\"name\":\"El Pas de la Casa\",\"country\":\"Andorra\",\"countryCode\":\"AD\",\"region\":\"Encamp\",\"regionCode\":\"03\",\"latitude\":42.54277,\"longitude\":1.73361},{\"id\":614,\"wikiDataId\":\"Q24413\",\"type\":\"CITY\",\"city\":\"El Tarter\",\"name\":\"El Tarter\",\"country\":\"Andorra\",\"countryCode\":\"AD\",\"region\":\"Canillo\",\"regionCode\":\"02\",\"latitude\":42.58333333,\"longitude\":1.65},{\"id\":497,\"wikiDataId\":\"Q989558\",\"type\":\"CITY\",\"city\":\"Encamp\",\"name\":\"Encamp\",\"country\":\"Andorra\",\"countryCode\":\"AD\",\"region\":\"Encamp\",\"regionCode\":\"03\",\"latitude\":42.51666667,\"longitude\":1.56666667}],\"links\":[{\"rel\":\"first\",\"href\":\"/v1/geo/cities?offset=0&limit=5\"},{\"rel\":\"next\",\"href\":\"/v1/geo/cities?offset=5&limit=5\"},{\"rel\":\"last\",\"href\":\"/v1/geo/cities?offset=266705&limit=5\"}],\"metadata\":{\"currentOffset\":0,\"totalCount\":266709}}\n"
     ]
    }
   ],
   "source": [
    "import requests, json\n",
    "\n",
    "url=\"https://wft-geo-db.p.rapidapi.com/v1/geo/cities\"\n",
    "\n",
    "headers= { 'x-rapidapi-host': 'wft-geo-db.p.rapidapi.com', \n",
    "          'x-rapidapi-key': '227367db63msh93937e4c26e4cf4p1c1509jsn7f9a54fdc8e1'\n",
    "         }\n",
    "response=requests.get(url, headers=headers)\n",
    "print(response.text)"
   ]
  }
 ],
 "metadata": {
  "kernelspec": {
   "display_name": "Python 3",
   "language": "python",
   "name": "python3"
  },
  "language_info": {
   "codemirror_mode": {
    "name": "ipython",
    "version": 3
   },
   "file_extension": ".py",
   "mimetype": "text/x-python",
   "name": "python",
   "nbconvert_exporter": "python",
   "pygments_lexer": "ipython3",
   "version": "3.7.3"
  }
 },
 "nbformat": 4,
 "nbformat_minor": 4
}

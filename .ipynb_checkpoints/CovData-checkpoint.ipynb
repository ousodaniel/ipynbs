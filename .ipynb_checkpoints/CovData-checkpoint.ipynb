{
 "cells": [
  {
   "cell_type": "markdown",
   "metadata": {},
   "source": [
    "# Summary report of the COVID-19 testing at ILRI\n",
    "## Objective\n",
    "To generate data viz and summary statistics for all the samples tested within the ILRI testing labs for reporting purposes"
   ]
  },
  {
   "cell_type": "markdown",
   "metadata": {},
   "source": [
    "## Number of samples analysed per county"
   ]
  },
  {
   "cell_type": "code",
   "execution_count": 71,
   "metadata": {},
   "outputs": [],
   "source": [
    "import fileinput, glob, pandas as pd, time, datetime\n",
    "from datetime import date\n",
    "\n",
    "files = glob.iglob(\"/home/ouso/Documents/CleanedCovSampleFiles/*.xlsx\", recursive=False)\n",
    "COUNTY_OF_RESIDENCE = []\n",
    "for file in files:\n",
    "    #print(file)\n",
    "    data = pd.read_excel(file, header=1)\n",
    "    data.columns = data.columns.str.replace(' ', '_').str.replace('(', '').str.replace(')', '').str.strip()\n",
    "    #if \"COUNTY_OF_RESIDENCE\" not in data.columns:\n",
    "    #print(file)\n",
    "    #else: pass\n",
    "    COUNTY_OF_RESIDENCE.extend(list(data.COUNTY_OF_RESIDENCE))\n",
    "    \n",
    "countyData = pd.DataFrame({\"COUNTY_OF_RESIDENCE\":COUNTY_OF_RESIDENCE})\n",
    "countyData.COUNTY_OF_RESIDENCE = countyData.COUNTY_OF_RESIDENCE.str.title().str.strip()\n"
   ]
  },
  {
   "cell_type": "code",
   "execution_count": 73,
   "metadata": {},
   "outputs": [
    {
     "name": "stdout",
     "output_type": "stream",
     "text": [
      "Total number of samples ran by 18-12-2020 are 22249 from 47 counties, represented by: \n",
      "\n",
      "COUNTY_OF_RESIDENCE\n",
      "Nairobi                8234\n",
      "Kiambu                 4719\n",
      "Mombasa                3990\n",
      "Nakuru                 1162\n",
      "Laikipia               1055\n",
      "Nyeri                   711\n",
      "Garissa                 585\n",
      "Kajiado                 494\n",
      "Machakos                277\n",
      "Murang`A                236\n",
      "Kitui                   235\n",
      "Kwale                    58\n",
      "Nyandarua                53\n",
      "Makueni                  45\n",
      "Mandera                  39\n",
      "Kirinyaga                39\n",
      "Uasin Gishu              39\n",
      "Nil                      32\n",
      "Isiolo                   31\n",
      "Meru                     31\n",
      "Narok                    29\n",
      "Kakamega                 25\n",
      "Kericho                  15\n",
      "Samburu                  13\n",
      "Bungoma                  13\n",
      "Kilifi                   11\n",
      "Embu                     11\n",
      "Kisii                    10\n",
      "Tana River                8\n",
      "Busia                     7\n",
      "Kisumu                    6\n",
      "Nandi                     5\n",
      "Trans Nzoia               5\n",
      "Homabay                   4\n",
      "Kampala                   4\n",
      "Wajir                     3\n",
      "Vihiga                    3\n",
      "Kajido                    2\n",
      "Siaya                     2\n",
      "Kigali                    1\n",
      "Marsabit                  1\n",
      "Migori                    1\n",
      "Elgeyo Marakwet           1\n",
      "Congo                     1\n",
      "Nyamira                   1\n",
      "Bomet                     1\n",
      "Badiere                   1\n",
      "dtype: int64\n",
      "\n",
      "A summary plot is show below:\n",
      "\n"
     ]
    },
    {
     "ename": "AttributeError",
     "evalue": "'Series' object has no attribute 'plt'",
     "output_type": "error",
     "traceback": [
      "\u001b[0;31m---------------------------------------------------------------------------\u001b[0m",
      "\u001b[0;31mAttributeError\u001b[0m                            Traceback (most recent call last)",
      "\u001b[0;32m<ipython-input-73-70f004430a22>\u001b[0m in \u001b[0;36m<module>\u001b[0;34m\u001b[0m\n\u001b[1;32m      8\u001b[0m \u001b[0;34m\u001b[0m\u001b[0m\n\u001b[1;32m      9\u001b[0m \u001b[0mfig\u001b[0m \u001b[0;34m=\u001b[0m \u001b[0mplt\u001b[0m\u001b[0;34m.\u001b[0m\u001b[0mfigure\u001b[0m\u001b[0;34m(\u001b[0m\u001b[0;34m)\u001b[0m\u001b[0;34m\u001b[0m\u001b[0;34m\u001b[0m\u001b[0m\n\u001b[0;32m---> 10\u001b[0;31m \u001b[0mcounts\u001b[0m\u001b[0;34m.\u001b[0m\u001b[0mplt\u001b[0m\u001b[0;34m.\u001b[0m\u001b[0mplot\u001b[0m\u001b[0;34m.\u001b[0m\u001b[0mbar\u001b[0m\u001b[0;34m(\u001b[0m\u001b[0mxlabel\u001b[0m\u001b[0;34m=\u001b[0m\u001b[0;34m\"Counties\"\u001b[0m\u001b[0;34m,\u001b[0m \u001b[0mylabel\u001b[0m\u001b[0;34m=\u001b[0m\u001b[0;34m\"Number of Samples\"\u001b[0m\u001b[0;34m)\u001b[0m\u001b[0;34m\u001b[0m\u001b[0;34m\u001b[0m\u001b[0m\n\u001b[0m\u001b[1;32m     11\u001b[0m \u001b[0mplt\u001b[0m\u001b[0;34m.\u001b[0m\u001b[0mshow\u001b[0m\u001b[0;34m(\u001b[0m\u001b[0;34m)\u001b[0m\u001b[0;34m\u001b[0m\u001b[0;34m\u001b[0m\u001b[0m\n",
      "\u001b[0;32m~/anaconda3/lib/python3.8/site-packages/pandas/core/generic.py\u001b[0m in \u001b[0;36m__getattr__\u001b[0;34m(self, name)\u001b[0m\n\u001b[1;32m   5137\u001b[0m             \u001b[0;32mif\u001b[0m \u001b[0mself\u001b[0m\u001b[0;34m.\u001b[0m\u001b[0m_info_axis\u001b[0m\u001b[0;34m.\u001b[0m\u001b[0m_can_hold_identifiers_and_holds_name\u001b[0m\u001b[0;34m(\u001b[0m\u001b[0mname\u001b[0m\u001b[0;34m)\u001b[0m\u001b[0;34m:\u001b[0m\u001b[0;34m\u001b[0m\u001b[0;34m\u001b[0m\u001b[0m\n\u001b[1;32m   5138\u001b[0m                 \u001b[0;32mreturn\u001b[0m \u001b[0mself\u001b[0m\u001b[0;34m[\u001b[0m\u001b[0mname\u001b[0m\u001b[0;34m]\u001b[0m\u001b[0;34m\u001b[0m\u001b[0;34m\u001b[0m\u001b[0m\n\u001b[0;32m-> 5139\u001b[0;31m             \u001b[0;32mreturn\u001b[0m \u001b[0mobject\u001b[0m\u001b[0;34m.\u001b[0m\u001b[0m__getattribute__\u001b[0m\u001b[0;34m(\u001b[0m\u001b[0mself\u001b[0m\u001b[0;34m,\u001b[0m \u001b[0mname\u001b[0m\u001b[0;34m)\u001b[0m\u001b[0;34m\u001b[0m\u001b[0;34m\u001b[0m\u001b[0m\n\u001b[0m\u001b[1;32m   5140\u001b[0m \u001b[0;34m\u001b[0m\u001b[0m\n\u001b[1;32m   5141\u001b[0m     \u001b[0;32mdef\u001b[0m \u001b[0m__setattr__\u001b[0m\u001b[0;34m(\u001b[0m\u001b[0mself\u001b[0m\u001b[0;34m,\u001b[0m \u001b[0mname\u001b[0m\u001b[0;34m:\u001b[0m \u001b[0mstr\u001b[0m\u001b[0;34m,\u001b[0m \u001b[0mvalue\u001b[0m\u001b[0;34m)\u001b[0m \u001b[0;34m->\u001b[0m \u001b[0;32mNone\u001b[0m\u001b[0;34m:\u001b[0m\u001b[0;34m\u001b[0m\u001b[0;34m\u001b[0m\u001b[0m\n",
      "\u001b[0;31mAttributeError\u001b[0m: 'Series' object has no attribute 'plt'"
     ]
    },
    {
     "data": {
      "text/plain": [
       "<Figure size 432x288 with 0 Axes>"
      ]
     },
     "metadata": {},
     "output_type": "display_data"
    }
   ],
   "source": [
    "import matplotlib.pyplot as plt\n",
    "n_counties = countyData.nunique()[-1]\n",
    "counts=countyData.value_counts()\n",
    "t_samples = counts.sum()\n",
    "today = date.today().strftime('%d-%m-%Y')\n",
    "print(\"Total number of samples ran by {} are {} from {} counties, represented by: \\n\\n{}\\n\".format(today,t_samples, n_counties, counts))\n",
    "print(\"A summary plot is show below:\\n\")\n",
    "\n",
    "fig = plt.figure()\n",
    "counts.plt.plot.bar(xlabel=\"Counties\", ylabel=\"Number of Samples\")\n",
    "plt.show()"
   ]
  }
 ],
 "metadata": {
  "kernelspec": {
   "display_name": "Python 3",
   "language": "python",
   "name": "python3"
  },
  "language_info": {
   "codemirror_mode": {
    "name": "ipython",
    "version": 3
   },
   "file_extension": ".py",
   "mimetype": "text/x-python",
   "name": "python",
   "nbconvert_exporter": "python",
   "pygments_lexer": "ipython3",
   "version": "3.8.5"
  }
 },
 "nbformat": 4,
 "nbformat_minor": 4
}

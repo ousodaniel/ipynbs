{
 "cells": [
  {
   "cell_type": "markdown",
   "id": "2e0af9b5-fe60-4834-92b3-6e12f5fc51c6",
   "metadata": {},
   "source": [
    "# **Genomics Data Analysis: ONT**\n",
    "\n",
    "Introductory \n",
    "(*under dev...*)"
   ]
  },
  {
   "cell_type": "markdown",
   "id": "e2a10d34-cbe9-4506-88cf-41aabbe0a1f4",
   "metadata": {},
   "source": [
    "### **Setup**\n",
    "Assumes a Linux system running Jupyter\n",
    "\n",
    "***Install...***\n",
    "- Guppy\n",
    "- FastQC\n",
    "- [Minimap2](https://github.com/lh3/minimap2)\n",
    "- Samtools\n",
    "- [Medaka](https://github.com/nanoporetech/medaka)\n",
    "- [snpEff](http://pcingola.github.io/SnpEff/download/)"
   ]
  },
  {
   "cell_type": "markdown",
   "id": "1a6037f8-fe59-41b4-a067-0ee99555975b",
   "metadata": {},
   "source": [
    "### **Organisation**\n",
    "- Input data directory\n",
    "- Analyses output directory\n",
    "- Logs directory*"
   ]
  },
  {
   "cell_type": "markdown",
   "id": "958e903d-1b9e-4ddc-b56d-151abdc352ff",
   "metadata": {},
   "source": [
    "### **Fast5 file format**\n",
    "<img src=\"https://github.com/ousodaniel/Images/blob/master/HyperLinkedImages/hd5_format.jpg\" alt=\"Hierarchical Data Formats\" style=\"width: 200\"/>\n",
    "\n",
    "Photo from [neonscience](https://www.neonscience.org/resources/learning-hub/tutorials/about-hdf5)"
   ]
  },
  {
   "cell_type": "markdown",
   "id": "bf478749-f57e-492c-b9ae-3906e06db960",
   "metadata": {},
   "source": [
    "### **Analysis**"
   ]
  },
  {
   "cell_type": "raw",
   "id": "b9dbaf59-8d61-445d-9c45-6fe2947b0e31",
   "metadata": {},
   "source": [
    "In case you have raw fast5 files ... you just want to basecall without demultiplexing ..."
   ]
  },
  {
   "cell_type": "code",
   "execution_count": null,
   "id": "857efbdd-1888-4a34-b4df-24ea1140c8db",
   "metadata": {},
   "outputs": [],
   "source": [
    "!guppy_basecaller \\\n",
    "    --disable_pings \\\n",
    "    --device \"auto\" \\\n",
    "    --config dna_r9.4.1_450bps_fast.cfg \\  # alt --kit --flowcell\n",
    "    --min_score 9 \\\n",
    "#        \n",
    "    --recursive \\  # careful with this\n",
    "    --input_path $input_dir \\\n",
    "    --compress_fastq \\\n",
    "    --fast5_out \\\n",
    "    --save_path $out_dir\n",
    "#\n",
    "# runners * chunks_per_runner * chunk_size < 100000 * [max GPU memory in Gb]\n",
    "    --num_callers 1 \\\n",
    "    --gpu_runners_per_device 5 \\\n",
    "    --chunks_per_runner 512 \\\n",
    "    --chunk_size 100  # assuming 4Gb ram\n",
    "#    --resume\n"
   ]
  },
  {
   "cell_type": "raw",
   "id": "919440de-83f1-4fb7-9066-cfb8271f47c7",
   "metadata": {},
   "source": [
    "In case you have multiplexed fastq reads ..."
   ]
  },
  {
   "cell_type": "code",
   "execution_count": null,
   "id": "993001e7-767d-4282-b4d7-f762b3673c4d",
   "metadata": {},
   "outputs": [],
   "source": [
    "!guppy_barcoder \\\n",
    "    --disable_pings \\\n",
    "    --device \"auto\" \\\n",
    "#\n",
    "    --barcode_kits \"EXP-NBD196 EXP-NBD104 EXP-NBD114 SQK-NBD110-24 SQK-NBD110-96\" \\  # choose which aplies\n",
    "    --min_qscore 60 \\\n",
    "    --allow_inferior_barcodes \\\n",
    "    --detect_mid_strand_barcodes \\\n",
    "    --require_barcodes_both_ends \\\n",
    "    --arrangements_files samplesheet.csv \\\n",
    "    --trim_barcodes \\\n",
    "#        \n",
    "    --recursive \\\n",
    "    --input_path $input_dir \\\n",
    "    --compress_fastq \\\n",
    "    --save_path $out_dir "
   ]
  },
  {
   "cell_type": "raw",
   "id": "840b7888-fe94-4ee4-9035-8298e6faa7df",
   "metadata": {},
   "source": [
    "Quick QC of reads ..."
   ]
  },
  {
   "cell_type": "code",
   "execution_count": null,
   "id": "28083ab0-09a4-4013-bfc8-2ea894b02970",
   "metadata": {},
   "outputs": [],
   "source": [
    "!fastqc -o $output_dir -f $reads_fastq"
   ]
  },
  {
   "cell_type": "raw",
   "id": "17dd71be-dc44-4d99-bd14-5ecb13e96eb3",
   "metadata": {},
   "source": [
    "Map short reads to a reference seq/database ..."
   ]
  },
  {
   "cell_type": "code",
   "execution_count": null,
   "id": "f6d78b74-4290-42ce-838b-ba1f27515e69",
   "metadata": {},
   "outputs": [],
   "source": [
    "!minimap2 -ax sr $ref_fasta $read1_fastq $read2_fastq > $aln_sam"
   ]
  },
  {
   "cell_type": "raw",
   "id": "487dd812-d8ad-44d4-9f8c-da7fcb84706e",
   "metadata": {},
   "source": [
    "Convert SAM to BAM ..."
   ]
  },
  {
   "cell_type": "code",
   "execution_count": null,
   "id": "a42c6038-5d19-40ab-891a-2cf547692dfa",
   "metadata": {},
   "outputs": [],
   "source": [
    "!samtools view -bS $aln_sam > $aln_bam"
   ]
  },
  {
   "cell_type": "raw",
   "id": "3011ea27-ff2d-44fe-9190-0297831b897e",
   "metadata": {},
   "source": [
    "Homology assembly -> consensus_fasta ..."
   ]
  },
  {
   "cell_type": "code",
   "execution_count": null,
   "id": "33012b93-e812-437f-a62b-008882ec34b3",
   "metadata": {},
   "outputs": [],
   "source": [
    "!medaka_consensus -t 2 \\  # number of threads\n",
    " -d $ref_fasta \\\n",
    " -i $reads_fastq \\\n",
    " -o $output_dir \\\n",
    " -m r941_min_fast_g303  # model choice: based on flowcell, machine and basecalling mode"
   ]
  },
  {
   "cell_type": "raw",
   "id": "16d9992d-1d91-4fba-9113-97b73f441828",
   "metadata": {},
   "source": [
    "Variant call (SNP) ..."
   ]
  },
  {
   "cell_type": "code",
   "execution_count": null,
   "id": "6e6197bc-a4f1-4d5a-b8eb-b3e75f25fbe3",
   "metadata": {},
   "outputs": [],
   "source": [
    "!medaka_variant -f $ref_fasta -i $input_bam -o $output_dir"
   ]
  },
  {
   "cell_type": "raw",
   "id": "225c976f-4e58-4d36-8c01-c26703d15134",
   "metadata": {},
   "source": [
    "Variants annotation ..."
   ]
  },
  {
   "cell_type": "code",
   "execution_count": null,
   "id": "de272f66-1125-4f74-b974-4b0d604b0e6d",
   "metadata": {},
   "outputs": [],
   "source": [
    "# see availavle databases\n",
    "!java -jar snpEff.jar databases  # database name, genome name and source data"
   ]
  },
  {
   "cell_type": "code",
   "execution_count": null,
   "id": "42c2038a-10d0-4d88-bfda-e315051facc8",
   "metadata": {},
   "outputs": [],
   "source": [
    "# annotate\n",
    "!java -Xmx2g -Xmx4g -jar snpEff.jar -c snpEff.config \\\n",
    "$database_name $variants_vcf > $variants_ann_vcf"
   ]
  }
 ],
 "metadata": {
  "kernelspec": {
   "display_name": "Python 3",
   "language": "python",
   "name": "python3"
  },
  "language_info": {
   "codemirror_mode": {
    "name": "ipython",
    "version": 3
   },
   "file_extension": ".py",
   "mimetype": "text/x-python",
   "name": "python",
   "nbconvert_exporter": "python",
   "pygments_lexer": "ipython3",
   "version": "3.8.10"
  }
 },
 "nbformat": 4,
 "nbformat_minor": 5
}
